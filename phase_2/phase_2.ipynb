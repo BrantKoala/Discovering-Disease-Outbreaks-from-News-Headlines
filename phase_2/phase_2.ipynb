{
 "cells": [
  {
   "cell_type": "markdown",
   "metadata": {},
   "source": [
    "PHASE TWO: Adding Latitude and Longitude Coordinates\n",
    "\n",
    "    Objective: Find the geographic location of each headline in latitude and longitude coordinates from the city/country names."
   ]
  },
  {
   "cell_type": "markdown",
   "metadata": {},
   "source": [
    "Workflow:\n",
    "\n",
    "Step One\n",
    "\n",
    "    import necessary modules: geonamescache/numpy/pandas/unidecode"
   ]
  },
  {
   "cell_type": "code",
   "execution_count": 6,
   "metadata": {},
   "outputs": [],
   "source": [
    "import geonamescache\n",
    "import numpy as np\n",
    "import pandas as pd\n",
    "from unidecode import unidecode"
   ]
  },
  {
   "cell_type": "markdown",
   "metadata": {},
   "source": [
    "Step Two\n",
    "\n",
    "    Load in the headline data and examine it for any data quality issues."
   ]
  },
  {
   "cell_type": "code",
   "execution_count": 7,
   "metadata": {},
   "outputs": [],
   "source": [
    "# load the extracted data of which is the output of phase1\n",
    "df = pd.read_csv('database/extracted_data.csv')\n",
    "\n",
    "# bring in external data through geonamescache and initialize necessary lists\n",
    "\n",
    "gnc = geonamescache.GeonamesCache()\n",
    "countries_info = gnc.get_countries()\n",
    "cities_info = gnc.get_cities()\n",
    "list_longitude = []\n",
    "list_latitude = []\n",
    "\n",
    "# remove the empty lines in the dataframe\n",
    "df.dropna(inplace=True)\n",
    "df.reset_index(inplace=True, drop=True)"
   ]
  },
  {
   "cell_type": "markdown",
   "metadata": {},
   "source": [
    "Step Three\n",
    "\n",
    "    Using regular expressions and the cities and countries within the geonamescache library, match any cities/countries within each headline."
   ]
  },
  {
   "cell_type": "code",
   "execution_count": 8,
   "metadata": {},
   "outputs": [],
   "source": [
    "# get country code according to its name\n",
    "def get_countrycode_from_name(country_name):\n",
    "    for code, country_entry_value in countries_info.items():\n",
    "        if unidecode(country_entry_value['name']).strip() == country_name:\n",
    "            return code\n",
    "    return None\n",
    "\n",
    "\n",
    "df['countrycode'] = df['country'].apply(get_countrycode_from_name)"
   ]
  },
  {
   "cell_type": "code",
   "execution_count": 9,
   "metadata": {},
   "outputs": [
    {
     "name": "stdout",
     "output_type": "stream",
     "text": [
      "622"
     ]
    }
   ],
   "source": [
    "# match the longitude and latitude of the city\n",
    "city_column = df['city']\n",
    "countrycode_column = df['countrycode']\n",
    "for index in df.index:\n",
    "    print(f'\\r{index}', end='')\n",
    "    city_matches = {}\n",
    "    for city_ID, city_entry_value in cities_info.items():\n",
    "        if city_entry_value['countrycode'] == countrycode_column[index]:\n",
    "            # consider to match the official name first, then consider to match the alternate names\n",
    "            if unidecode(city_entry_value['name']).strip() == city_column[index]:\n",
    "                city_matches[city_ID] = [city_entry_value['longitude'], city_entry_value['latitude'],\n",
    "                                         len(city_entry_value['alternatenames']), city_entry_value['population']]\n",
    "            else:\n",
    "                for alternate in city_entry_value['alternatenames']:\n",
    "                    if unidecode(alternate).strip() == city_column[index]:\n",
    "                        city_matches[city_ID] = [city_entry_value['longitude'], city_entry_value['latitude'],\n",
    "                                                 len(city_entry_value['alternatenames']),\n",
    "                                                 city_entry_value['population']]\n",
    "    # For cities with same city name (whether it's official name or alternate name), we take the one which has most alternate names. If there are still multiple matches, we choose the one which has most population.\n",
    "    # We assume that the more alternate names and population the city has, the greater influence it has.\n",
    "    max_alternate = 0\n",
    "    for ID, info in city_matches.items():\n",
    "        max_alternate = max(max_alternate, info[2])\n",
    "    max_population = 0\n",
    "    right_longitude = np.nan\n",
    "    right_latitude = np.nan\n",
    "    for ID, info in city_matches.items():\n",
    "        if info[2] == max_alternate:\n",
    "            if info[3] > max_population:\n",
    "                max_population = info[3]\n",
    "                right_longitude = info[0]\n",
    "                right_latitude = info[1]\n",
    "    list_longitude.append(right_longitude)\n",
    "    list_latitude.append(right_latitude)"
   ]
  },
  {
   "cell_type": "markdown",
   "metadata": {},
   "source": [
    "Step Four\n",
    "\n",
    "    Put the extracted data into a pandas DataFrame with three columns: headline, city, country\n",
    "\n",
    "    "
   ]
  },
  {
   "cell_type": "code",
   "execution_count": 10,
   "metadata": {},
   "outputs": [
    {
     "name": "stdout",
     "output_type": "stream",
     "text": [
      "                         headline       city        country  longitude  \\\n",
      "17  Louisiana Zika cases up to 26  Louisiana  United States        NaN   \n",
      "\n",
      "    latitude countrycode  \n",
      "17       NaN          US  \n",
      "<class 'pandas.core.frame.DataFrame'>\n",
      "Int64Index: 622 entries, 0 to 622\n",
      "Data columns (total 6 columns):\n",
      " #   Column       Non-Null Count  Dtype  \n",
      "---  ------       --------------  -----  \n",
      " 0   headline     622 non-null    object \n",
      " 1   city         622 non-null    object \n",
      " 2   country      622 non-null    object \n",
      " 3   longitude    622 non-null    float64\n",
      " 4   latitude     622 non-null    float64\n",
      " 5   countrycode  622 non-null    object \n",
      "dtypes: float64(2), object(4)\n",
      "memory usage: 34.0+ KB\n",
      "None\n",
      "        longitude    latitude\n",
      "count  622.000000  622.000000\n",
      "mean   -37.647664   26.651596\n",
      "std     80.026700   20.701847\n",
      "min   -156.506040  -53.787690\n",
      "25%    -91.444495   14.753155\n",
      "50%    -76.315220   33.662735\n",
      "75%      7.702465   40.658300\n",
      "max    179.364510   59.938630\n"
     ]
    }
   ],
   "source": [
    "# add longitude and latitude to the original DataFrame\n",
    "df['longitude'] = list_longitude\n",
    "df['latitude'] = list_latitude\n",
    "\n",
    "# post processing\n",
    "df = df[df.columns[[0, 1, 2, 4, 5, 3]]]  # readjust the sequence of columns\n",
    "print(df[df.isnull().T.any()])  # print the rows with null data\n",
    "df.dropna(inplace=True)  # drop rows which contains null data\n",
    "df.to_csv('database/match_data.csv', index=False)\n",
    "print(df.info())\n",
    "print(df.describe())"
   ]
  }
 ],
 "metadata": {
  "interpreter": {
   "hash": "3e039b0c7e241e2bbbf1351462284b0418951f9760348aa8b98c536a3c03e18a"
  },
  "kernelspec": {
   "display_name": "Python 3 (ipykernel)",
   "language": "python",
   "name": "python3"
  },
  "language_info": {
   "codemirror_mode": {
    "name": "ipython",
    "version": 3
   },
   "file_extension": ".py",
   "mimetype": "text/x-python",
   "name": "python",
   "nbconvert_exporter": "python",
   "pygments_lexer": "ipython3",
   "version": "3.10.4"
  }
 },
 "nbformat": 4,
 "nbformat_minor": 2
}